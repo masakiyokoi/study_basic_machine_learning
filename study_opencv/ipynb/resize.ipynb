{
 "cells": [
  {
   "cell_type": "code",
   "execution_count": null,
   "metadata": {},
   "outputs": [],
   "source": [
    "import matplotlib.pyplot as plt\n",
    "import cv2\n",
    "\n",
    "#画像を読み込む\n",
    "img = cv2.imread(\"test.png\")\n",
    "\n",
    "#画像をリサイズ\n",
    "im2 = cv2.resize(img,(600,300))\n",
    "\n",
    "#リサイズした画像を保存\n",
    "cv2.imwrite(\"out-resize.png\",im2)"
   ]
  },
  {
   "cell_type": "code",
   "execution_count": null,
   "metadata": {},
   "outputs": [],
   "source": []
  }
 ],
 "metadata": {
  "kernelspec": {
   "display_name": "Python 3",
   "language": "python",
   "name": "python3"
  },
  "language_info": {
   "codemirror_mode": {
    "name": "ipython",
    "version": 3
   },
   "file_extension": ".py",
   "mimetype": "text/x-python",
   "name": "python",
   "nbconvert_exporter": "python",
   "pygments_lexer": "ipython3",
   "version": "3.6.5"
  }
 },
 "nbformat": 4,
 "nbformat_minor": 2
}
